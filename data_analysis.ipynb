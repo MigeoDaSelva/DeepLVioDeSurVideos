{
 "cells": [
  {
   "cell_type": "markdown",
   "metadata": {},
   "source": [
    "# Data Analysis"
   ]
  },
  {
   "cell_type": "markdown",
   "metadata": {},
   "source": [
    "## Environment setup"
   ]
  },
  {
   "cell_type": "code",
   "execution_count": null,
   "metadata": {},
   "outputs": [],
   "source": []
  },
  {
   "cell_type": "markdown",
   "metadata": {},
   "source": [
    "## Development setup"
   ]
  },
  {
   "cell_type": "code",
   "execution_count": null,
   "metadata": {},
   "outputs": [],
   "source": [
    "#@title Imports libraries\n",
    "from statistics import mean\n",
    "from random import randint\n",
    "from pprint import pprint\n",
    "from pathlib import Path\n",
    "import cv2 as cv\n",
    "import sys\n",
    "import os"
   ]
  },
  {
   "cell_type": "code",
   "execution_count": null,
   "metadata": {},
   "outputs": [],
   "source": [
    "#@title System path manager\n",
    "%reload_ext autoreload\n",
    "%autoreload 2\n",
    "\n",
    "project_name = \"DeepLVioDeSurVideos\"\n",
    "\n",
    "working_directory = os.popen(\"echo $PWD\").read().rstrip()\n",
    "\n",
    "project_root_path = f\"{working_directory}/{project_name}\" \\\n",
    "    if project_name not in working_directory else working_directory\n",
    "\n",
    "if str(project_root_path) not in sys.path:\n",
    "    sys.path.insert(0, str(project_root_path))\n",
    "\n",
    "pprint(f\"Environment paths: {sys.path}\")"
   ]
  },
  {
   "cell_type": "code",
   "execution_count": null,
   "metadata": {},
   "outputs": [],
   "source": [
    "#@title Imports project stuff\n",
    "from src.data_handler.strategies.video_creator import OpenCVVideoCreator, DecordVideoCreator\n",
    "from src.data_handler.strategies.class_names_finder import UniqueClassNamesFinder\n",
    "from src.data_handler.strategies.file_path_finder import (\n",
    "    RecursiveFilePathFinder,\n",
    "    FilePathFinderByLoad\n",
    "    )\n",
    "from src.data_handler.data_splitter import DataSplitter\n",
    "from configs import settings"
   ]
  },
  {
   "cell_type": "markdown",
   "metadata": {},
   "source": [
    "## Dataset attribute analysis"
   ]
  },
  {
   "cell_type": "code",
   "execution_count": null,
   "metadata": {},
   "outputs": [],
   "source": [
    "file_extensions = [\"avi\", \"mp4\"]\n",
    "\n",
    "file_path_finder = RecursiveFilePathFinder(file_extensions=file_extensions)\n",
    "class_finder = UniqueClassNamesFinder()\n",
    "# video_creator = DecordVideoCreator()\n",
    "video_creator = OpenCVVideoCreator()\n",
    "\n",
    "file_paths = file_path_finder.finds(Path(os.path.join(settings.DATASETS_PATH, f\"{settings.DATASET_NAME}/\")))\n",
    "total_of_videos = len(file_paths)\n",
    "video_extensions = {path.suffix for path in file_paths}\n",
    "video_classes = class_finder.finds(file_paths)\n",
    "video_per_class = {\n",
    "    label: len(\n",
    "        list(\n",
    "            filter(\n",
    "                lambda path: path.parent.name == label, file_paths\n",
    "            )\n",
    "        )\n",
    "    ) for label in video_classes\n",
    "}\n",
    "\n",
    "print(\n",
    "    f\"Total of videos: {total_of_videos}\",\n",
    "    f\"Extentions: {', '.join(video_extensions)}\",\n",
    "    f\"Video classes: {', '.join(video_classes)}\",\n",
    "    f\"Total of classes: {len(video_classes)}\",\n",
    "    sep=\"\\n\"\n",
    "    )\n",
    "\n",
    "pprint(\n",
    "    {\"Total of videos per class\": video_per_class},\n",
    ")\n",
    "\n",
    "def gets_length(path: Path) -> int:\n",
    "    video_creator.opens(path)\n",
    "    return video_creator.gets_total_length()\n",
    "\n",
    "frames_per_video = list(\n",
    "    gets_length(path)\n",
    "    for path in file_paths\n",
    ")\n",
    "overall_frame_rate = round(mean(frames_per_video))\n",
    "higher_amount_of_frames = max(frames_per_video)\n",
    "lowest_amount_of_frames = min(frames_per_video)\n",
    "\n",
    "overall_frame_rate_per_class = {\n",
    "    label: round(\n",
    "        mean(\n",
    "            gets_length(path) for path in list(\n",
    "                filter(\n",
    "                    lambda path: path.parent.name == label, file_paths\n",
    "                )\n",
    "            )\n",
    "        )\n",
    "    ) for label in video_classes\n",
    "}\n",
    "\n",
    "print(\n",
    "    f\"Overall frame rate: {overall_frame_rate}\",\n",
    "    (\"Higher and lowest amount of frames: \"\n",
    "        f\"{higher_amount_of_frames}, \"\n",
    "        f\"{lowest_amount_of_frames}\"),\n",
    "    sep=\"\\n\"\n",
    ")\n",
    "pprint(\n",
    "    {\"Overall frame rate per class\": overall_frame_rate_per_class},\n",
    ")"
   ]
  },
  {
   "cell_type": "markdown",
   "metadata": {},
   "source": [
    "## Single random sample analysis"
   ]
  },
  {
   "cell_type": "code",
   "execution_count": null,
   "metadata": {},
   "outputs": [],
   "source": [
    "index = randint(0, len(file_paths))\n",
    "\n",
    "video_creator = DecordVideoCreator(required_length=60)\n",
    "# video_creator = OpenCVVideoCreator(required_length=60)\n",
    "\n",
    "video = video_creator.creates(file_paths[index])\n",
    "\n",
    "print(video)"
   ]
  },
  {
   "cell_type": "markdown",
   "metadata": {},
   "source": [
    "## Cross validation analysis"
   ]
  },
  {
   "cell_type": "code",
   "execution_count": null,
   "metadata": {},
   "outputs": [],
   "source": [
    "file_path_finder = RecursiveFilePathFinder(settings.SUPPORTED_VIDEO_EXTENSIONS)\n",
    "dataset_paths = file_path_finder.finds(Path(f\"{settings.DATASETS_PATH}/{settings.DATASET_NAME}\"))\n",
    "data_splitter = DataSplitter(dataset_paths, train_size=0.8, validation_size=0.2)\n",
    "\n",
    "data_splitter.splits()"
   ]
  }
 ],
 "metadata": {
  "kernelspec": {
   "display_name": "Python 3",
   "language": "python",
   "name": "python3"
  },
  "language_info": {
   "codemirror_mode": {
    "name": "ipython",
    "version": 3
   },
   "file_extension": ".py",
   "mimetype": "text/x-python",
   "name": "python",
   "nbconvert_exporter": "python",
   "pygments_lexer": "ipython3",
   "version": "3.11.0rc1"
  },
  "orig_nbformat": 4
 },
 "nbformat": 4,
 "nbformat_minor": 2
}
