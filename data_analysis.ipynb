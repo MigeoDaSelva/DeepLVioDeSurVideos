{
 "cells": [
  {
   "cell_type": "markdown",
   "metadata": {},
   "source": [
    "# Data Analysis"
   ]
  },
  {
   "cell_type": "markdown",
   "metadata": {},
   "source": [
    "## Development environment setup"
   ]
  },
  {
   "cell_type": "code",
   "execution_count": 1,
   "metadata": {},
   "outputs": [
    {
     "data": {
      "text/plain": [
       "[]"
      ]
     },
     "execution_count": 1,
     "metadata": {},
     "output_type": "execute_result"
    }
   ],
   "source": [
    "%%sx\n",
    "#@title Colab development environment settings\n",
    "if [ -n \"${COLAB_RELEASE_TAG}\" ]; then\n",
    "    git clone -b main https://github.com/MigeoDaSelva/MachineLApplVioDeSurVideos.git;\n",
    "    python3 -m pip install --upgrade pip;\n",
    "    python3 -m pip install -r /content/MachineLApplVioDeSurVideos/requirements.txt;\n",
    "    kill -9 pid \"${PPID}\";\n",
    "fi"
   ]
  },
  {
   "cell_type": "code",
   "execution_count": 2,
   "metadata": {},
   "outputs": [],
   "source": [
    "#@title Imports libraries\n",
    "from random import randint, sample\n",
    "from statistics import mean\n",
    "from pprint import pprint\n",
    "from pathlib import Path\n",
    "import sys\n",
    "import os"
   ]
  },
  {
   "cell_type": "code",
   "execution_count": 3,
   "metadata": {},
   "outputs": [
    {
     "name": "stdout",
     "output_type": "stream",
     "text": [
      "(\"Environment paths: ['/workspaces/MachineLApplVioDeSurVideos', \"\n",
      " \"'/usr/lib/python311.zip', '/usr/lib/python3.11', \"\n",
      " \"'/usr/lib/python3.11/lib-dynload', '', \"\n",
      " \"'/usr/local/lib/python3.11/dist-packages', '/usr/lib/python3/dist-packages']\")\n"
     ]
    }
   ],
   "source": [
    "#@title System path manager\n",
    "%reload_ext autoreload\n",
    "%autoreload 2\n",
    "\n",
    "project_name = \"MachineLApplVioDeSurVideos\"\n",
    "\n",
    "working_directory = os.popen(\"echo $PWD\").read().rstrip()\n",
    "\n",
    "project_root_path = working_directory \\\n",
    "    if project_name in working_directory \\\n",
    "        else os.popen(\n",
    "            f\"readlink -f $(find -name {project_name} \\\n",
    "                -not -path '*/drive/*')\"\n",
    "        ).read().rstrip()\n",
    "\n",
    "if str(project_root_path) not in sys.path:\n",
    "    sys.path.insert(0, str(project_root_path))\n",
    "\n",
    "pprint(f\"Environment paths: {sys.path}\")"
   ]
  },
  {
   "cell_type": "code",
   "execution_count": 4,
   "metadata": {},
   "outputs": [],
   "source": [
    "#@title Imports project stuff\n",
    "from src.data_handler.strategies.video_creator import OpenCVVideoCreator, DecordVideoCreator\n",
    "from src.data_handler.strategies.class_names_finder import UniqueClassNamesFinder\n",
    "from src.data_handler.strategies.file_path_finder import (\n",
    "    RecursiveFilePathFinder,\n",
    "    FilePathFinderByLoad\n",
    "    )\n",
    "from src.data_handler.data_splitter import DataSplitter\n",
    "from configs import settings"
   ]
  },
  {
   "cell_type": "code",
   "execution_count": 5,
   "metadata": {},
   "outputs": [],
   "source": [
    "#@title Colab resource settings\n",
    "if settings.COLAB_ENV: \n",
    "    from google.colab import output\n",
    "    from google.colab import drive\n",
    "    output.enable_custom_widget_manager()\n",
    "    drive.mount(\"/content/drive\", force_remount=True)"
   ]
  },
  {
   "cell_type": "markdown",
   "metadata": {},
   "source": [
    "## Dataset attribute analysis"
   ]
  },
  {
   "cell_type": "code",
   "execution_count": 6,
   "metadata": {},
   "outputs": [
    {
     "name": "stdout",
     "output_type": "stream",
     "text": [
      "Total of videos: 1000\n",
      "Extentions: .mp4\n",
      "Video classes: Abuse, Arrest, Arson, Assault, Burglary, Explosion, Fighting, Normal, RoadAccidents, Robbery, Shooting, Shoplifting, Stealing, Vandalism\n",
      "Total of classes: 14\n",
      "{'Total of videos per class': {'Abuse': 50,\n",
      "                               'Arrest': 50,\n",
      "                               'Arson': 50,\n",
      "                               'Assault': 50,\n",
      "                               'Burglary': 100,\n",
      "                               'Explosion': 50,\n",
      "                               'Fighting': 50,\n",
      "                               'Normal': 50,\n",
      "                               'RoadAccidents': 150,\n",
      "                               'Robbery': 150,\n",
      "                               'Shooting': 50,\n",
      "                               'Shoplifting': 50,\n",
      "                               'Stealing': 100,\n",
      "                               'Vandalism': 50}}\n",
      "Overall frame rate: 3791\n",
      "Higher and lowest amount of frames: 141900, 104\n",
      "{'Overall frame rate per class': {'Abuse': 3870,\n",
      "                                  'Arrest': 5948,\n",
      "                                  'Arson': 5438,\n",
      "                                  'Assault': 2599,\n",
      "                                  'Burglary': 4712,\n",
      "                                  'Explosion': 5048,\n",
      "                                  'Fighting': 5178,\n",
      "                                  'Normal': 2919,\n",
      "                                  'RoadAccidents': 1739,\n",
      "                                  'Robbery': 2817,\n",
      "                                  'Shooting': 2949,\n",
      "                                  'Shoplifting': 6487,\n",
      "                                  'Stealing': 4674,\n",
      "                                  'Vandalism': 2943}}\n"
     ]
    }
   ],
   "source": [
    "file_extensions = [\"avi\", \"mp4\"]\n",
    "\n",
    "file_path_finder = RecursiveFilePathFinder(file_extensions=file_extensions)\n",
    "class_finder = UniqueClassNamesFinder()\n",
    "# video_creator = DecordVideoCreator()\n",
    "video_creator = OpenCVVideoCreator()\n",
    "\n",
    "file_paths = file_path_finder.finds(Path(os.path.join(settings.DATASETS_PATH, f\"{settings.DATASET_NAME}/\")))\n",
    "total_of_videos = len(file_paths)\n",
    "video_extensions = {path.suffix for path in file_paths}\n",
    "video_classes = class_finder.finds(file_paths)\n",
    "video_per_class = {\n",
    "    label: len(\n",
    "        list(\n",
    "            filter(\n",
    "                lambda path: path.parent.name == label, file_paths\n",
    "            )\n",
    "        )\n",
    "    ) for label in video_classes\n",
    "}\n",
    "\n",
    "print(\n",
    "    f\"Total of videos: {total_of_videos}\",\n",
    "    f\"Extentions: {', '.join(video_extensions)}\",\n",
    "    f\"Video classes: {', '.join(video_classes)}\",\n",
    "    f\"Total of classes: {len(video_classes)}\",\n",
    "    sep=\"\\n\"\n",
    "    )\n",
    "\n",
    "pprint(\n",
    "    {\"Total of videos per class\": video_per_class},\n",
    ")\n",
    "\n",
    "def gets_length(path: Path) -> int:\n",
    "    video_creator.opens(path)\n",
    "    return video_creator.gets_total_length()\n",
    "\n",
    "frames_per_video = list(\n",
    "    gets_length(path)\n",
    "    for path in file_paths\n",
    ")\n",
    "overall_frame_rate = round(mean(frames_per_video))\n",
    "higher_amount_of_frames = max(frames_per_video)\n",
    "lowest_amount_of_frames = min(frames_per_video)\n",
    "\n",
    "overall_frame_rate_per_class = {\n",
    "    label: round(\n",
    "        mean(\n",
    "            gets_length(path) for path in list(\n",
    "                filter(\n",
    "                    lambda path: path.parent.name == label, file_paths\n",
    "                )\n",
    "            )\n",
    "        )\n",
    "    ) for label in video_classes\n",
    "}\n",
    "\n",
    "print(\n",
    "    f\"Overall frame rate: {overall_frame_rate}\",\n",
    "    (\"Higher and lowest amount of frames: \"\n",
    "        f\"{higher_amount_of_frames}, \"\n",
    "        f\"{lowest_amount_of_frames}\"),\n",
    "    sep=\"\\n\"\n",
    ")\n",
    "pprint(\n",
    "    {\"Overall frame rate per class\": overall_frame_rate_per_class},\n",
    ")"
   ]
  },
  {
   "cell_type": "markdown",
   "metadata": {},
   "source": [
    "## Single random sample analysis"
   ]
  },
  {
   "cell_type": "code",
   "execution_count": 7,
   "metadata": {},
   "outputs": [
    {
     "name": "stdout",
     "output_type": "stream",
     "text": [
      "Name: Burglary008_x264.mp4\n",
      "Length: 60\n",
      "Label: Burglary\n",
      "Path: /workspaces/MachineLApplVioDeSurVideos/src/assets/violence_detection_datasets/UCF-Crime/Burglary/Burglary008_x264.mp4\n",
      "Array Shape: (60, 240, 320, 3)\n"
     ]
    }
   ],
   "source": [
    "index = randint(0, len(file_paths)-1)\n",
    "\n",
    "video_creator = DecordVideoCreator(required_length=60)\n",
    "# video_creator = OpenCVVideoCreator(required_length=60)\n",
    "\n",
    "video = video_creator.creates(file_paths[index])\n",
    "\n",
    "print(video)"
   ]
  },
  {
   "cell_type": "markdown",
   "metadata": {},
   "source": [
    "## Cross validation analysis"
   ]
  },
  {
   "cell_type": "code",
   "execution_count": null,
   "metadata": {},
   "outputs": [],
   "source": [
    "#@title Selects the top ten\n",
    "sorted_classes = dict(sorted(video_per_class.items(), key=lambda item: item[1], reverse=True))\n",
    "top_10_classes = sorted(list(sorted_classes.keys())[:10])\n",
    "\n",
    "file_paths = file_path_finder.finds(Path(os.path.join(settings.DATASETS_PATH, f\"{settings.DATASET_NAME}/\")))\n",
    "\n",
    "print(f\"Total of videos before selecting the top 10 classes with the largest sample: {len(file_paths)}\\n\")\n",
    "\n",
    "dataset_paths = []\n",
    "\n",
    "for label in top_10_classes:\n",
    "    dataset_paths.extend(\n",
    "        list(\n",
    "            filter(\n",
    "                lambda path: path.match(f\"*/{label}/*\"), file_paths\n",
    "            )\n",
    "        )\n",
    "    )\n",
    "\n",
    "file_paths = dataset_paths\n",
    "video_classes = top_10_classes\n",
    "\n",
    "pprint({\"Top 10 classes\": top_10_classes})\n",
    "print(f\"\\nTotal of videos after selection: {len(dataset_paths)}\")"
   ]
  },
  {
   "cell_type": "code",
   "execution_count": 8,
   "metadata": {},
   "outputs": [],
   "source": [
    "#@title Class balancing\n",
    "\n",
    "sample_size = 50\n",
    "\n",
    "new_file_paths = []\n",
    "\n",
    "for label in video_classes:\n",
    "    new_file_paths.extend(\n",
    "        sample(\n",
    "            list(\n",
    "                filter(\n",
    "                    lambda path: path.match(f\"*/{label}/*\"), \n",
    "                    file_paths\n",
    "                )\n",
    "            ), sample_size\n",
    "        )\n",
    "    )\n",
    "file_paths = new_file_paths"
   ]
  },
  {
   "cell_type": "code",
   "execution_count": 9,
   "metadata": {},
   "outputs": [],
   "source": [
    "#@title Splitation\n",
    "\n",
    "data_splitter = DataSplitter(\n",
    "    file_paths,\n",
    "    k_folds=5,\n",
    "    n_iterations=10,\n",
    "    train_size=0.8,\n",
    "    validation_size=0.3\n",
    ")\n",
    "\n",
    "data_splitter.splits()"
   ]
  },
  {
   "cell_type": "code",
   "execution_count": 10,
   "metadata": {},
   "outputs": [
    {
     "name": "stdout",
     "output_type": "stream",
     "text": [
      "Random observation\n",
      "Iteration: 7\n",
      "Fold: 4\n",
      "\n",
      "Train size: 392\n",
      "Test size: 140\n",
      "Validation size: 168\n",
      "Total: 700\n",
      "\n",
      "{'Videos per class in test set': {'Abuse': 10,\n",
      "                                  'Arrest': 10,\n",
      "                                  'Arson': 10,\n",
      "                                  'Assault': 10,\n",
      "                                  'Burglary': 10,\n",
      "                                  'Explosion': 10,\n",
      "                                  'Fighting': 10,\n",
      "                                  'Normal': 10,\n",
      "                                  'RoadAccidents': 10,\n",
      "                                  'Robbery': 10,\n",
      "                                  'Shooting': 10,\n",
      "                                  'Shoplifting': 10,\n",
      "                                  'Stealing': 10,\n",
      "                                  'Vandalism': 10},\n",
      " 'Videos per class in train set': {'Abuse': 28,\n",
      "                                   'Arrest': 28,\n",
      "                                   'Arson': 28,\n",
      "                                   'Assault': 28,\n",
      "                                   'Burglary': 28,\n",
      "                                   'Explosion': 28,\n",
      "                                   'Fighting': 28,\n",
      "                                   'Normal': 28,\n",
      "                                   'RoadAccidents': 28,\n",
      "                                   'Robbery': 28,\n",
      "                                   'Shooting': 28,\n",
      "                                   'Shoplifting': 28,\n",
      "                                   'Stealing': 28,\n",
      "                                   'Vandalism': 28},\n",
      " 'Videos per class in validation set': {'Abuse': 12,\n",
      "                                        'Arrest': 12,\n",
      "                                        'Arson': 12,\n",
      "                                        'Assault': 12,\n",
      "                                        'Burglary': 12,\n",
      "                                        'Explosion': 12,\n",
      "                                        'Fighting': 12,\n",
      "                                        'Normal': 12,\n",
      "                                        'RoadAccidents': 12,\n",
      "                                        'Robbery': 12,\n",
      "                                        'Shooting': 12,\n",
      "                                        'Shoplifting': 12,\n",
      "                                        'Stealing': 12,\n",
      "                                        'Vandalism': 12}}\n"
     ]
    }
   ],
   "source": [
    "iteration = randint(0, data_splitter.n_iterations-1)\n",
    "fold = randint(0, data_splitter.k_folds-1)\n",
    "\n",
    "train_file_paths = FilePathFinderByLoad().finds(Path(f'{settings.CROSS_VALIDATION_PATH}/{iteration}_{fold}_train.pickle'))\n",
    "test_file_paths = FilePathFinderByLoad().finds(Path(f'{settings.CROSS_VALIDATION_PATH}/{iteration}_{fold}_test.pickle'))\n",
    "validation_file_paths = FilePathFinderByLoad().finds(Path(f'{settings.CROSS_VALIDATION_PATH}/{iteration}_{fold}_validation.pickle'))\n",
    "\n",
    "train_classes =  UniqueClassNamesFinder().finds(train_file_paths)\n",
    "test_classes =  UniqueClassNamesFinder().finds(test_file_paths)\n",
    "validation_classes =  UniqueClassNamesFinder().finds(validation_file_paths)\n",
    "\n",
    "\n",
    "video_per_class_train = {\n",
    "    label: len(\n",
    "        list(\n",
    "            filter(\n",
    "                lambda path: path.parent.name == label, train_file_paths\n",
    "            )\n",
    "        )\n",
    "    ) for label in train_classes\n",
    "}\n",
    "\n",
    "video_per_class_test = {\n",
    "    label: len(\n",
    "        list(\n",
    "            filter(\n",
    "                lambda path: path.parent.name == label, test_file_paths\n",
    "            )\n",
    "        )\n",
    "    ) for label in test_classes\n",
    "}\n",
    "\n",
    "video_per_class_validation = {\n",
    "    label: len(\n",
    "        list(\n",
    "            filter(\n",
    "                lambda path: path.parent.name == label, validation_file_paths\n",
    "            )\n",
    "        )\n",
    "    ) for label in validation_classes\n",
    "}\n",
    "\n",
    "print(\n",
    "    f\"Random observation\\nIteration: {iteration}\\nFold: {fold}\\n\",\n",
    "    f\"Train size: {len(train_file_paths)}\",\n",
    "    f\"Test size: {len(test_file_paths)}\",\n",
    "    f\"Validation size: {len(validation_file_paths)}\",\n",
    "    f\"Total: {len(train_file_paths)+len(test_file_paths)+len(validation_file_paths)}\\n\",\n",
    "    sep=\"\\n\"\n",
    ")\n",
    "\n",
    "pprint(\n",
    "    {\"Videos per class in train set\": video_per_class_train,\n",
    "    \"Videos per class in test set\": video_per_class_test,\n",
    "    \"Videos per class in validation set\": video_per_class_validation}\n",
    ")"
   ]
  }
 ],
 "metadata": {
  "kernelspec": {
   "display_name": "Python 3",
   "language": "python",
   "name": "python3"
  },
  "language_info": {
   "codemirror_mode": {
    "name": "ipython",
    "version": 3
   },
   "file_extension": ".py",
   "mimetype": "text/x-python",
   "name": "python",
   "nbconvert_exporter": "python",
   "pygments_lexer": "ipython3",
   "version": "2.7.0"
  },
  "orig_nbformat": 4
 },
 "nbformat": 4,
 "nbformat_minor": 2
}
