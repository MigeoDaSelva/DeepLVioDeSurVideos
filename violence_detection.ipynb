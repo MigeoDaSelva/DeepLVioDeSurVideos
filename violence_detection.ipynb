{
 "cells": [
  {
   "cell_type": "markdown",
   "metadata": {},
   "source": [
    "# <b>Machine</b> <b>L</b>earning <b>Appl</b>ied to <b>Vio</b>lence <b>De</b>tection in <b>Sur</b>veillance <b>Videos</b> (MachineLApplVioDeSurVideos)"
   ]
  },
  {
   "cell_type": "markdown",
   "metadata": {},
   "source": [
    "## Development environment setup"
   ]
  },
  {
   "cell_type": "code",
   "execution_count": null,
   "metadata": {},
   "outputs": [],
   "source": [
    "%%sx\n",
    "#@title Colab development environment settings\n",
    "if [ -n \"${COLAB_RELEASE_TAG}\" ]; then\n",
    "    git clone -b main https://github.com/MigeoDaSelva/MachineLApplVioDeSurVideos.git;\n",
    "    python3 -m pip install --upgrade pip;\n",
    "    python3 -m pip install -r /content/MachineLApplVioDeSurVideos/requirements.txt;\n",
    "    kill -9 pid \"${PPID}\";\n",
    "fi"
   ]
  },
  {
   "cell_type": "code",
   "execution_count": null,
   "metadata": {},
   "outputs": [],
   "source": [
    "#@title Import libraries\n",
    "from pprint import pprint\n",
    "import importlib\n",
    "import sys\n",
    "import os"
   ]
  },
  {
   "cell_type": "code",
   "execution_count": null,
   "metadata": {},
   "outputs": [],
   "source": [
    "#@title System path manager\n",
    "%reload_ext autoreload\n",
    "%autoreload 2\n",
    "\n",
    "project_name = \"MachineLApplVioDeSurVideos\"\n",
    "\n",
    "working_directory = os.popen(\"echo $PWD\").read().rstrip()\n",
    "\n",
    "project_root_path = working_directory \\\n",
    "    if project_name in working_directory \\\n",
    "        else os.popen(\n",
    "            f\"readlink -f $(find -name {project_name} \\\n",
    "                -not -path '*/drive/*')\"\n",
    "        ).read().rstrip()\n",
    "\n",
    "if str(project_root_path) not in sys.path:\n",
    "    sys.path.insert(0, str(project_root_path))\n",
    "\n",
    "pprint(f\"Environment paths: {sys.path}\")"
   ]
  },
  {
   "cell_type": "code",
   "execution_count": null,
   "metadata": {},
   "outputs": [],
   "source": [
    "#@title Import project stuff\n",
    "from src.application.evaluation_application import EvaluationApplication\n",
    "from src.application.execution_application import ExecutionApplication\n",
    "from src.application.startup_application import StartupApplication\n",
    "from configs import settings"
   ]
  },
  {
   "cell_type": "code",
   "execution_count": null,
   "metadata": {},
   "outputs": [],
   "source": [
    "#@title Colab resource settings\n",
    "if settings.COLAB_ENV: \n",
    "    from google.colab import output\n",
    "    from google.colab import drive\n",
    "    output.enable_custom_widget_manager()\n",
    "    drive.mount(\"/content/drive\", force_remount=True)"
   ]
  },
  {
   "cell_type": "code",
   "execution_count": null,
   "metadata": {},
   "outputs": [],
   "source": [
    "#@title Define simulation scope\n",
    "importlib.reload(settings)\n",
    "simulation_scope_settings = StartupApplication.get_scope_manager()"
   ]
  },
  {
   "cell_type": "code",
   "execution_count": null,
   "metadata": {},
   "outputs": [],
   "source": [
    "#@title Select data settings\n",
    "importlib.reload(settings)\n",
    "data_settings = StartupApplication.get_data_manager()"
   ]
  },
  {
   "cell_type": "code",
   "execution_count": null,
   "metadata": {},
   "outputs": [],
   "source": [
    "#@title Select approach settings\n",
    "importlib.reload(settings)\n",
    "approach_settings = StartupApplication.get_approach_manager()"
   ]
  },
  {
   "cell_type": "code",
   "execution_count": null,
   "metadata": {},
   "outputs": [],
   "source": [
    "#@title Show selected values\n",
    "\n",
    "print(\n",
    "    \"\\nSimulation scope sttings:\\n\",\n",
    "    f\"Iterations: {simulation_scope_settings.iterations}\",\n",
    "    f\"folds: {simulation_scope_settings.folds}\",\n",
    "    sep=\"\\n\"\n",
    ")\n",
    "\n",
    "print(\n",
    "    \"\\nSelected data attributes:\\n\",\n",
    "    f\"Number of channels: {data_settings.n_channels}\",\n",
    "    f\"Number of frames: {data_settings.n_frames}\",\n",
    "    f\"Image height: {data_settings.image_height}\",\n",
    "    f\"Image width: {data_settings.image_width}\",\n",
    "    f\"Batch size: {data_settings.batch_size}\",\n",
    "    sep = \"\\n\"\n",
    ")\n",
    "\n",
    "print(\n",
    "    f\"\\nSelected {approach_settings.approach.__name__} attributes:\\n\",\n",
    "    f\"Callbacks: {[callback.__class__.__name__ for callback in approach_settings.callbacks]}\",\n",
    "    f\"Number of output initial filters: {approach_settings.filters}\",\n",
    "    f\"Pooling Strides: {approach_settings.pooling_strides}\",\n",
    "    f\"Activation function: {approach_settings.activation}\",\n",
    "    f\"Padding approach: {approach_settings.padding}\",\n",
    "    f\"Kernel size: {approach_settings.kernel_size}\",\n",
    "    f\"Load best model: {approach_settings.continue_training}\",\n",
    "    f\"Number of epochs: {approach_settings.epochs}\",\n",
    "    f\"Learning rate: {approach_settings.learning_rate}\",\n",
    "    f\"Unfreezing: {approach_settings.unfreezing}\",\n",
    "    f\"Optimizer: {approach_settings.optimizer.__name__}\",\n",
    "    f\"Dropout: {approach_settings.dropout}\",\n",
    "    sep = \"\\n\"\n",
    ")"
   ]
  },
  {
   "cell_type": "code",
   "execution_count": null,
   "metadata": {},
   "outputs": [],
   "source": [
    "#@title build pipeline\n",
    "importlib.reload(settings)\n",
    "pipeline = ExecutionApplication.get_pipeline(\n",
    "    simulation_scope_settings=simulation_scope_settings,\n",
    "    data_settings=data_settings,\n",
    "    approach_settings=approach_settings\n",
    ")"
   ]
  },
  {
   "cell_type": "code",
   "execution_count": null,
   "metadata": {},
   "outputs": [],
   "source": [
    "#@title Pipeline runimg\n",
    "importlib.reload(settings)\n",
    "pipeline.run()"
   ]
  },
  {
   "cell_type": "code",
   "execution_count": null,
   "metadata": {},
   "outputs": [],
   "source": [
    "#@title Load latest best model\n",
    "importlib.reload(settings)\n",
    "ExecutionApplication.load_best_model(pipeline.approach)"
   ]
  },
  {
   "cell_type": "code",
   "execution_count": null,
   "metadata": {},
   "outputs": [],
   "source": [
    "#@title Evaluate\n",
    "importlib.reload(settings)\n",
    "evaluation_application = EvaluationApplication(\n",
    "    approach=pipeline.approach,\n",
    "    data_settings=data_settings,\n",
    "    simulation_scope_settings=simulation_scope_settings,\n",
    ")\n",
    "\n",
    "evaluation_application.evaluate()\n",
    "evaluation_application.calculate_classification_metrics()\n",
    "evaluation_application.save_confusion_matrix()"
   ]
  },
  {
   "cell_type": "code",
   "execution_count": null,
   "metadata": {},
   "outputs": [],
   "source": [
    "#@title Post-training\n",
    "importlib.reload(settings)\n",
    "evaluation_application.calculate_average_classification_metrics()\n",
    "evaluation_application.build_confusion_matrix()"
   ]
  }
 ],
 "metadata": {
  "kernelspec": {
   "display_name": "Python 3",
   "language": "python",
   "name": "python3"
  },
  "language_info": {
   "codemirror_mode": {
    "name": "ipython",
    "version": 3
   },
   "file_extension": ".py",
   "mimetype": "text/x-python",
   "name": "python",
   "nbconvert_exporter": "python",
   "pygments_lexer": "ipython3",
   "version": "3.11.0"
  }
 },
 "nbformat": 4,
 "nbformat_minor": 2
}
