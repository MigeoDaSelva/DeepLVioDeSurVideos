{
 "cells": [
  {
   "cell_type": "markdown",
   "metadata": {},
   "source": [
    "# Deep Learning for Violence Detection in Surveillance Videos"
   ]
  },
  {
   "cell_type": "markdown",
   "metadata": {},
   "source": [
    "## Development environment setup"
   ]
  },
  {
   "cell_type": "code",
   "execution_count": null,
   "metadata": {},
   "outputs": [],
   "source": [
    "%%sx\n",
    "#@title Colab development environment settings\n",
    "if [ -n \"${COLAB_RELEASE_TAG}\" ]; then\n",
    "    git clone -b development https://github.com/MigeoDaSelva/DeepLVioDeSurVideos.git \\\n",
    "    && echo -e \"\\n\\nOkay!\\n\\n\" \\\n",
    "    || echo -e \"\\n\\nFAILED!\\n\\n\";\n",
    "    python3 -m pip install --upgrade pip;\n",
    "    python3 -m pip install -r /content/DeepLVioDeSurVideos/requirements.txt;\n",
    "    kill -9 pid \"${PPID}\";\n",
    "fi"
   ]
  },
  {
   "cell_type": "code",
   "execution_count": 10,
   "metadata": {},
   "outputs": [],
   "source": [
    "#@title Import libraries\n",
    "from pprint import pprint\n",
    "import sys\n",
    "import os"
   ]
  },
  {
   "cell_type": "code",
   "execution_count": 11,
   "metadata": {},
   "outputs": [
    {
     "name": "stdout",
     "output_type": "stream",
     "text": [
      "(\"Environment paths: ['/workspaces/DeepLVioDeSurVideos', \"\n",
      " \"'/usr/lib/python311.zip', '/usr/lib/python3.11', \"\n",
      " \"'/usr/lib/python3.11/lib-dynload', '', \"\n",
      " \"'/usr/local/lib/python3.11/dist-packages', '/usr/lib/python3/dist-packages']\")\n"
     ]
    }
   ],
   "source": [
    "#@title System path manager\n",
    "%reload_ext autoreload\n",
    "%autoreload 2\n",
    "\n",
    "project_name = \"DeepLVioDeSurVideos\"\n",
    "\n",
    "working_directory = os.popen(\"echo $PWD\").read().rstrip()\n",
    "\n",
    "project_root_path = working_directory \\\n",
    "    if project_name in working_directory \\\n",
    "        else os.popen(\n",
    "            f\"readlink -f $(find -name {project_name})\"\n",
    "        ).read().rstrip()\n",
    "\n",
    "if str(project_root_path) not in sys.path:\n",
    "    sys.path.insert(0, str(project_root_path))\n",
    "\n",
    "pprint(f\"Environment paths: {sys.path}\")"
   ]
  },
  {
   "cell_type": "code",
   "execution_count": 12,
   "metadata": {},
   "outputs": [],
   "source": [
    "#@title Import project stuff\n",
    "from src.application.evaluation_application import EvaluationApplication\n",
    "from src.application.execution_application import ExecutionApplication\n",
    "from src.application.startup_application import StartupApplication\n",
    "from configs import settings"
   ]
  },
  {
   "cell_type": "code",
   "execution_count": null,
   "metadata": {},
   "outputs": [],
   "source": [
    "#@title Colab resource settings\n",
    "if settings.COLAB_ENV: \n",
    "    from google.colab import output\n",
    "    from google.colab import drive\n",
    "    output.enable_custom_widget_manager()\n",
    "    drive.mount(\"/content/drive\", force_remount=True)"
   ]
  },
  {
   "cell_type": "code",
   "execution_count": 13,
   "metadata": {},
   "outputs": [
    {
     "data": {
      "application/vnd.jupyter.widget-view+json": {
       "model_id": "6649bae0383e422eae2115acb76d0d26",
       "version_major": 2,
       "version_minor": 0
      },
      "text/plain": [
       "VBox(children=(Label(value='Literally: Is used to indicate the execution of only one specific iteration or fol…"
      ]
     },
     "metadata": {},
     "output_type": "display_data"
    },
    {
     "data": {
      "application/vnd.jupyter.widget-view+json": {
       "model_id": "7723ce2f1d5042e582b1b3a8a9d52f50",
       "version_major": 2,
       "version_minor": 0
      },
      "text/plain": [
       "VBox(children=(Label(value='Select iteration(s):'), Dropdown(options=('Literally', 'Sequential', 'Range'), val…"
      ]
     },
     "metadata": {},
     "output_type": "display_data"
    },
    {
     "data": {
      "application/vnd.jupyter.widget-view+json": {
       "model_id": "4bb7f40bbc764b59a332c06b6ce0001b",
       "version_major": 2,
       "version_minor": 0
      },
      "text/plain": [
       "VBox(children=(Label(value='Select fold(s):'), Dropdown(options=('Literally', 'Sequential', 'Range'), value='L…"
      ]
     },
     "metadata": {},
     "output_type": "display_data"
    }
   ],
   "source": [
    "#@title Define simulation scope\n",
    "simulation_scope_settings = StartupApplication.get_scope_manager()"
   ]
  },
  {
   "cell_type": "code",
   "execution_count": 14,
   "metadata": {},
   "outputs": [
    {
     "data": {
      "application/vnd.jupyter.widget-view+json": {
       "model_id": "a176bb7c840c4477935dcc349b084ea6",
       "version_major": 2,
       "version_minor": 0
      },
      "text/plain": [
       "IntSlider(value=4, description='Batch size: ', layout=Layout(height='40px', width='auto'), max=1000, min=1, st…"
      ]
     },
     "metadata": {},
     "output_type": "display_data"
    },
    {
     "data": {
      "application/vnd.jupyter.widget-view+json": {
       "model_id": "5052c47f12ef4f798c85dd35c098ca0c",
       "version_major": 2,
       "version_minor": 0
      },
      "text/plain": [
       "IntSlider(value=10, description='Number of frames: ', layout=Layout(height='40px', width='auto'), min=1, style…"
      ]
     },
     "metadata": {},
     "output_type": "display_data"
    },
    {
     "data": {
      "application/vnd.jupyter.widget-view+json": {
       "model_id": "835ad536eadc4efe967eb094f64ec221",
       "version_major": 2,
       "version_minor": 0
      },
      "text/plain": [
       "IntSlider(value=224, description='Image height: ', layout=Layout(height='40px', width='auto'), max=2000, min=1…"
      ]
     },
     "metadata": {},
     "output_type": "display_data"
    },
    {
     "data": {
      "application/vnd.jupyter.widget-view+json": {
       "model_id": "7a351546449c462b90a17902728f91f6",
       "version_major": 2,
       "version_minor": 0
      },
      "text/plain": [
       "IntSlider(value=224, description='Image width: ', layout=Layout(height='40px', width='auto'), max=2000, min=1,…"
      ]
     },
     "metadata": {},
     "output_type": "display_data"
    },
    {
     "data": {
      "application/vnd.jupyter.widget-view+json": {
       "model_id": "c1d0d67d96724f8aa5968a7db2954fbb",
       "version_major": 2,
       "version_minor": 0
      },
      "text/plain": [
       "IntSlider(value=3, description='Number of channels: ', layout=Layout(height='40px', width='auto'), max=10, min…"
      ]
     },
     "metadata": {},
     "output_type": "display_data"
    }
   ],
   "source": [
    "#@title Select data settings\n",
    "data_settings = StartupApplication.get_data_manager()"
   ]
  },
  {
   "cell_type": "code",
   "execution_count": 15,
   "metadata": {},
   "outputs": [
    {
     "data": {
      "application/vnd.jupyter.widget-view+json": {
       "model_id": "f3dc44e3add3474881744b864d4ad777",
       "version_major": 2,
       "version_minor": 0
      },
      "text/plain": [
       "VBox(children=(Checkbox(value=False, description='Load last model checkpoint', indent=False), Checkbox(value=F…"
      ]
     },
     "metadata": {},
     "output_type": "display_data"
    },
    {
     "data": {
      "application/vnd.jupyter.widget-view+json": {
       "model_id": "599f5e7691814d9d81d076123d436458",
       "version_major": 2,
       "version_minor": 0
      },
      "text/plain": [
       "Dropdown(description='Approach options: ', index=1, layout=Layout(height='40px', width='auto'), options=(('(2+…"
      ]
     },
     "metadata": {},
     "output_type": "display_data"
    },
    {
     "data": {
      "application/vnd.jupyter.widget-view+json": {
       "model_id": "f753acc77feb4b2bbbdcbf3ea9b9a41f",
       "version_major": 2,
       "version_minor": 0
      },
      "text/plain": [
       "Dropdown(description='Optimizer options: ', layout=Layout(height='40px', width='auto'), options=('SGD', 'RMSpr…"
      ]
     },
     "metadata": {},
     "output_type": "display_data"
    },
    {
     "data": {
      "application/vnd.jupyter.widget-view+json": {
       "model_id": "d0590e70fd3f414299fc53de8afea064",
       "version_major": 2,
       "version_minor": 0
      },
      "text/plain": [
       "Dropdown(description='Activation options: ', layout=Layout(height='40px', width='auto'), options=('relu', 'sig…"
      ]
     },
     "metadata": {},
     "output_type": "display_data"
    },
    {
     "data": {
      "application/vnd.jupyter.widget-view+json": {
       "model_id": "c7bedec94cfe4bdf88fd1f93894e3ee9",
       "version_major": 2,
       "version_minor": 0
      },
      "text/plain": [
       "Dropdown(description='Padding options: ', layout=Layout(height='40px', width='auto'), options=('same', 'valid'…"
      ]
     },
     "metadata": {},
     "output_type": "display_data"
    },
    {
     "data": {
      "application/vnd.jupyter.widget-view+json": {
       "model_id": "51ff9892b49d4ca38c855d9e6879677e",
       "version_major": 2,
       "version_minor": 0
      },
      "text/plain": [
       "IntSlider(value=100, description='Epochs: ', layout=Layout(height='40px', width='auto'), max=300, min=1, style…"
      ]
     },
     "metadata": {},
     "output_type": "display_data"
    },
    {
     "data": {
      "application/vnd.jupyter.widget-view+json": {
       "model_id": "a0ef0968aa944c8d9064546e6c2fc575",
       "version_major": 2,
       "version_minor": 0
      },
      "text/plain": [
       "FloatLogSlider(value=32.0, base=2.0, description='Filters: ', layout=Layout(height='40px', width='auto'), max=…"
      ]
     },
     "metadata": {},
     "output_type": "display_data"
    },
    {
     "data": {
      "application/vnd.jupyter.widget-view+json": {
       "model_id": "8233d6e8aeea4d3e893f01d96ef4b8ea",
       "version_major": 2,
       "version_minor": 0
      },
      "text/plain": [
       "FloatSlider(value=0.5, continuous_update=False, description='Dropout: ', layout=Layout(height='40px', width='a…"
      ]
     },
     "metadata": {},
     "output_type": "display_data"
    },
    {
     "data": {
      "application/vnd.jupyter.widget-view+json": {
       "model_id": "aac11d282360473a88c8575f7144cf4b",
       "version_major": 2,
       "version_minor": 0
      },
      "text/plain": [
       "FloatLogSlider(value=0.01, description='Learning rate: ', layout=Layout(height='40px', width='auto'), max=-1.0…"
      ]
     },
     "metadata": {},
     "output_type": "display_data"
    },
    {
     "data": {
      "application/vnd.jupyter.widget-view+json": {
       "model_id": "b016f53d61fe4f1eaa92e641d990405a",
       "version_major": 2,
       "version_minor": 0
      },
      "text/plain": [
       "VBox(children=(Label(value='kernel Size Values:'), IntSlider(value=3, description='value 0: ', layout=Layout(h…"
      ]
     },
     "metadata": {},
     "output_type": "display_data"
    },
    {
     "data": {
      "application/vnd.jupyter.widget-view+json": {
       "model_id": "f88426c2cca4486a8489afa476d9c6db",
       "version_major": 2,
       "version_minor": 0
      },
      "text/plain": [
       "VBox(children=(Label(value='Pooling Strides Values:'), IntSlider(value=2, description='value 0: ', layout=Layo…"
      ]
     },
     "metadata": {},
     "output_type": "display_data"
    },
    {
     "data": {
      "application/vnd.jupyter.widget-view+json": {
       "model_id": "c6326eaf7eb943a4a01b24b53a8d2dc2",
       "version_major": 2,
       "version_minor": 0
      },
      "text/plain": [
       "Accordion(children=(Tab(children=(VBox(children=(Checkbox(value=False, description='Disabled', indent=False),)…"
      ]
     },
     "metadata": {},
     "output_type": "display_data"
    }
   ],
   "source": [
    "#@title Select approach settings\n",
    "approach_settings = StartupApplication.get_approach_manager()"
   ]
  },
  {
   "cell_type": "code",
   "execution_count": 16,
   "metadata": {},
   "outputs": [
    {
     "name": "stdout",
     "output_type": "stream",
     "text": [
      "\n",
      "Simulation scope sttings:\n",
      "\n",
      "Iterations: [0]\n",
      "folds: [0]\n",
      "\n",
      "Selected data attributes:\n",
      "\n",
      "Number of channels: 3\n",
      "Number of frames: 10\n",
      "Image height: 224\n",
      "Image width: 224\n",
      "Batch size: 4\n",
      "\n",
      "Selected C3D attributes:\n",
      "\n",
      "Callbacks: ['ModelCheckpoint', 'CSVLogger', 'EarlyStopping', 'LearningRateScheduler']\n",
      "Number of output initial filters: 32\n",
      "Pooling Strides: (2, 2, 2)\n",
      "Activation function: relu\n",
      "Load latest model: False\n",
      "Padding approach: same\n",
      "Kernel size: (3, 3, 3)\n",
      "Number of epochs: 100\n",
      "Learning rate: 0.01\n",
      "Unfreezing: False\n",
      "Optimizer: SGD\n",
      "Dropout: 0.5\n"
     ]
    }
   ],
   "source": [
    "#@title Show selected values\n",
    "\n",
    "print(\n",
    "    \"\\nSimulation scope sttings:\\n\",\n",
    "    f\"Iterations: {simulation_scope_settings.iterations}\",\n",
    "    f\"folds: {simulation_scope_settings.folds}\",\n",
    "    sep=\"\\n\"\n",
    ")\n",
    "\n",
    "print(\n",
    "    \"\\nSelected data attributes:\\n\",\n",
    "    f\"Number of channels: {data_settings.n_channels}\",\n",
    "    f\"Number of frames: {data_settings.n_frames}\",\n",
    "    f\"Image height: {data_settings.image_height}\",\n",
    "    f\"Image width: {data_settings.image_width}\",\n",
    "    f\"Batch size: {data_settings.batch_size}\",\n",
    "    sep = \"\\n\"\n",
    ")\n",
    "\n",
    "print(\n",
    "    f\"\\nSelected {approach_settings.approach.__name__} attributes:\\n\",\n",
    "    f\"Callbacks: {[callback.__class__.__name__ for callback in approach_settings.callbacks]}\",\n",
    "    f\"Number of output initial filters: {approach_settings.filters}\",\n",
    "    f\"Pooling Strides: {approach_settings.pooling_strides}\",\n",
    "    f\"Activation function: {approach_settings.activation}\",\n",
    "    f\"Load latest model: {approach_settings.load_latest_model}\",\n",
    "    f\"Padding approach: {approach_settings.padding}\",\n",
    "    f\"Kernel size: {approach_settings.kernel_size}\",\n",
    "    f\"Number of epochs: {approach_settings.epochs}\",\n",
    "    f\"Learning rate: {approach_settings.learning_rate}\",\n",
    "    f\"Unfreezing: {approach_settings.unfreezing}\",\n",
    "    f\"Optimizer: {approach_settings.optimizer}\",\n",
    "    f\"Dropout: {approach_settings.dropout}\",\n",
    "    sep = \"\\n\"\n",
    ")"
   ]
  },
  {
   "cell_type": "code",
   "execution_count": 17,
   "metadata": {},
   "outputs": [],
   "source": [
    "#@title build pipeline\n",
    "pipeline = ExecutionApplication.get_pipeline(\n",
    "    simulation_scope_settings=simulation_scope_settings,\n",
    "    data_settings=data_settings,\n",
    "    approach_settings=approach_settings\n",
    ")"
   ]
  },
  {
   "cell_type": "code",
   "execution_count": 18,
   "metadata": {},
   "outputs": [
    {
     "name": "stdout",
     "output_type": "stream",
     "text": [
      "Epoch 1/100\n"
     ]
    },
    {
     "name": "stderr",
     "output_type": "stream",
     "text": [
      "[h264 @ 0x7f0d8807f700] mb_type 104 in P slice too large at 98 31\n",
      "[h264 @ 0x7f0d8807f700] error while decoding MB 98 31\n"
     ]
    },
    {
     "name": "stdout",
     "output_type": "stream",
     "text": [
      "    250/Unknown - 2968s 12s/step - loss: 0.7800 - top_1: 1.0000 - top_5: 1.0000 - accuracy: 0.5160INFO:tensorflow:Assets written to: /workspaces/DeepLVioDeSurVideos/src/assets/model_checkpoint/(2023-11-14)-C3D-model-001-0.68900/assets\n"
     ]
    },
    {
     "name": "stderr",
     "output_type": "stream",
     "text": [
      "INFO:tensorflow:Assets written to: /workspaces/DeepLVioDeSurVideos/src/assets/model_checkpoint/(2023-11-14)-C3D-model-001-0.68900/assets\n"
     ]
    },
    {
     "name": "stdout",
     "output_type": "stream",
     "text": [
      "250/250 [==============================] - 3265s 13s/step - loss: 0.7800 - top_1: 1.0000 - top_5: 1.0000 - accuracy: 0.5160 - val_loss: 0.6890 - val_top_1: 1.0000 - val_top_5: 1.0000 - val_accuracy: 0.6717 - lr: 0.0100\n",
      "Epoch 2/100\n",
      "250/250 [==============================] - ETA: 0s - loss: 0.7245 - top_1: 1.0000 - top_5: 1.0000 - accuracy: 0.5320 INFO:tensorflow:Assets written to: /workspaces/DeepLVioDeSurVideos/src/assets/model_checkpoint/(2023-11-14)-C3D-model-002-0.63717/assets\n"
     ]
    },
    {
     "name": "stderr",
     "output_type": "stream",
     "text": [
      "INFO:tensorflow:Assets written to: /workspaces/DeepLVioDeSurVideos/src/assets/model_checkpoint/(2023-11-14)-C3D-model-002-0.63717/assets\n"
     ]
    },
    {
     "name": "stdout",
     "output_type": "stream",
     "text": [
      "250/250 [==============================] - 3078s 12s/step - loss: 0.7245 - top_1: 1.0000 - top_5: 1.0000 - accuracy: 0.5320 - val_loss: 0.6372 - val_top_1: 1.0000 - val_top_5: 1.0000 - val_accuracy: 0.6550 - lr: 0.0100\n",
      "Epoch 3/100\n",
      "250/250 [==============================] - ETA: 0s - loss: 0.6669 - top_1: 1.0000 - top_5: 1.0000 - accuracy: 0.6180 INFO:tensorflow:Assets written to: /workspaces/DeepLVioDeSurVideos/src/assets/model_checkpoint/(2023-11-14)-C3D-model-003-0.62615/assets\n"
     ]
    },
    {
     "name": "stderr",
     "output_type": "stream",
     "text": [
      "INFO:tensorflow:Assets written to: /workspaces/DeepLVioDeSurVideos/src/assets/model_checkpoint/(2023-11-14)-C3D-model-003-0.62615/assets\n"
     ]
    },
    {
     "name": "stdout",
     "output_type": "stream",
     "text": [
      "250/250 [==============================] - 3072s 12s/step - loss: 0.6669 - top_1: 1.0000 - top_5: 1.0000 - accuracy: 0.6180 - val_loss: 0.6262 - val_top_1: 1.0000 - val_top_5: 1.0000 - val_accuracy: 0.6533 - lr: 0.0100\n",
      "Epoch 4/100\n",
      "211/250 [========================>.....] - ETA: 7:22 - loss: 0.6545 - top_1: 1.0000 - top_5: 1.0000 - accuracy: 0.6268"
     ]
    }
   ],
   "source": [
    "#@title Pipeline runimg\n",
    "pipeline.run()"
   ]
  },
  {
   "cell_type": "code",
   "execution_count": null,
   "metadata": {},
   "outputs": [],
   "source": [
    "#@title Load latest best model\n",
    "pipeline.approach = ExecutionApplication.load_latest_model(pipeline.approach)"
   ]
  },
  {
   "cell_type": "code",
   "execution_count": null,
   "metadata": {},
   "outputs": [],
   "source": [
    "#@title Evaluate\n",
    "evaluation_application = EvaluationApplication(\n",
    "    approach=pipeline.approach,\n",
    "    data_settings=data_settings,\n",
    "    simulation_scope_settings=simulation_scope_settings,\n",
    ")\n",
    "evaluation_application.evaluate()"
   ]
  },
  {
   "cell_type": "code",
   "execution_count": null,
   "metadata": {},
   "outputs": [],
   "source": [
    "#@title Build, show and save learning curves\n",
    "evaluation_application.build_learning_curves()"
   ]
  },
  {
   "cell_type": "code",
   "execution_count": null,
   "metadata": {},
   "outputs": [],
   "source": [
    "#@title Calculate and save Precision, Recall and F1-score\n",
    "evaluation_application.calculate_classification_metrics()"
   ]
  },
  {
   "cell_type": "code",
   "execution_count": null,
   "metadata": {},
   "outputs": [],
   "source": [
    "#@title Calculate AUC\n",
    "evaluation_application.calculate_auc()"
   ]
  },
  {
   "cell_type": "code",
   "execution_count": null,
   "metadata": {},
   "outputs": [],
   "source": [
    "#@title Build, show and save ROC Curve\n",
    "evaluation_application.build_roc_curve()"
   ]
  },
  {
   "cell_type": "code",
   "execution_count": null,
   "metadata": {},
   "outputs": [],
   "source": [
    "#@title Build, show and save confusion matrix\n",
    "evaluation_application.build_confusion_matrix()"
   ]
  }
 ],
 "metadata": {
  "kernelspec": {
   "display_name": "Python 3",
   "language": "python",
   "name": "python3"
  },
  "language_info": {
   "codemirror_mode": {
    "name": "ipython",
    "version": 3
   },
   "file_extension": ".py",
   "mimetype": "text/x-python",
   "name": "python",
   "nbconvert_exporter": "python",
   "pygments_lexer": "ipython3",
   "version": "3.11.0rc1"
  }
 },
 "nbformat": 4,
 "nbformat_minor": 2
}
