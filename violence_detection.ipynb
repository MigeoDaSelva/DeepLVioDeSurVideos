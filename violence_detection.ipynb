{
 "cells": [
  {
   "cell_type": "markdown",
   "metadata": {},
   "source": [
    "# Deep Learning for Violence Detection in Surveillance Videos"
   ]
  },
  {
   "cell_type": "markdown",
   "metadata": {},
   "source": [
    "## Development environment setup"
   ]
  },
  {
   "cell_type": "code",
   "execution_count": null,
   "metadata": {},
   "outputs": [],
   "source": [
    "%%sx\n",
    "#@title Colab development environment settings\n",
    "if [ -n \"${COLAB_RELEASE_TAG}\" ]; then\n",
    "    git clone -b development https://github.com/MigeoDaSelva/DeepLVioDeSurVideos.git \\\n",
    "    && echo -e \"\\n\\nOkay!\\n\\n\" \\\n",
    "    || echo -e \"\\n\\nFAILED!\\n\\n\";\n",
    "    python3 -m pip install --upgrade pip;\n",
    "    python3 -m pip install -r /content/DeepLVioDeSurVideos/requirements.txt;\n",
    "    kill -9 pid \"${PPID}\";\n",
    "fi"
   ]
  },
  {
   "cell_type": "code",
   "execution_count": 1,
   "metadata": {},
   "outputs": [],
   "source": [
    "#@title Import libraries\n",
    "from pprint import pprint\n",
    "import sys\n",
    "import os"
   ]
  },
  {
   "cell_type": "code",
   "execution_count": 2,
   "metadata": {},
   "outputs": [
    {
     "name": "stdout",
     "output_type": "stream",
     "text": [
      "(\"Environment paths: ['/workspaces/DeepLVioDeSurVideos', \"\n",
      " \"'/usr/lib/python311.zip', '/usr/lib/python3.11', \"\n",
      " \"'/usr/lib/python3.11/lib-dynload', '', \"\n",
      " \"'/usr/local/lib/python3.11/dist-packages', '/usr/lib/python3/dist-packages']\")\n"
     ]
    }
   ],
   "source": [
    "#@title System path manager\n",
    "%reload_ext autoreload\n",
    "%autoreload 2\n",
    "\n",
    "project_name = \"DeepLVioDeSurVideos\"\n",
    "\n",
    "working_directory = os.popen(\"echo $PWD\").read().rstrip()\n",
    "\n",
    "project_root_path = f\"{working_directory}/{project_name}\" \\\n",
    "    if project_name not in working_directory else working_directory\n",
    "\n",
    "if str(project_root_path) not in sys.path:\n",
    "    sys.path.insert(0, str(project_root_path))\n",
    "\n",
    "pprint(f\"Environment paths: {sys.path}\")"
   ]
  },
  {
   "cell_type": "code",
   "execution_count": 3,
   "metadata": {},
   "outputs": [],
   "source": [
    "#@title Import project stuff\n",
    "from src.application.evaluation_application import EvaluationApplication\n",
    "from src.application.execution_application import ExecutionApplication\n",
    "from src.application.startup_application import StartupApplication\n",
    "from configs import settings"
   ]
  },
  {
   "cell_type": "code",
   "execution_count": null,
   "metadata": {},
   "outputs": [],
   "source": [
    "#@title Colab resource settings\n",
    "if settings.COLAB_ENV: \n",
    "    from google.colab import output\n",
    "    from google.colab import drive\n",
    "    output.enable_custom_widget_manager()\n",
    "    drive.mount(\"/content/drive\", force_remount=True)"
   ]
  },
  {
   "cell_type": "code",
   "execution_count": 4,
   "metadata": {},
   "outputs": [
    {
     "data": {
      "application/vnd.jupyter.widget-view+json": {
       "model_id": "221193412cbc498c9d44f840a7cf9511",
       "version_major": 2,
       "version_minor": 0
      },
      "text/plain": [
       "VBox(children=(Label(value='Literally: Is used to indicate the execution of only one specific iteration or fol…"
      ]
     },
     "metadata": {},
     "output_type": "display_data"
    },
    {
     "data": {
      "application/vnd.jupyter.widget-view+json": {
       "model_id": "af63153ba49b42fca9ba7e50753c0e68",
       "version_major": 2,
       "version_minor": 0
      },
      "text/plain": [
       "VBox(children=(Label(value='Select iteration(s):'), Dropdown(options=('Literally', 'Sequential', 'Range'), val…"
      ]
     },
     "metadata": {},
     "output_type": "display_data"
    },
    {
     "data": {
      "application/vnd.jupyter.widget-view+json": {
       "model_id": "e89e514b0bbc475a986513578ee893aa",
       "version_major": 2,
       "version_minor": 0
      },
      "text/plain": [
       "VBox(children=(Label(value='Select fold(s):'), Dropdown(options=('Literally', 'Sequential', 'Range'), value='L…"
      ]
     },
     "metadata": {},
     "output_type": "display_data"
    }
   ],
   "source": [
    "#@title Define simulation scope\n",
    "simulation_scope_settings = StartupApplication.get_scope_manager()"
   ]
  },
  {
   "cell_type": "code",
   "execution_count": 5,
   "metadata": {},
   "outputs": [
    {
     "data": {
      "application/vnd.jupyter.widget-view+json": {
       "model_id": "3905efe857254ef38e92946f59451bb2",
       "version_major": 2,
       "version_minor": 0
      },
      "text/plain": [
       "IntSlider(value=4, description='Batch size: ', layout=Layout(height='40px', width='auto'), max=1000, min=1, st…"
      ]
     },
     "metadata": {},
     "output_type": "display_data"
    },
    {
     "data": {
      "application/vnd.jupyter.widget-view+json": {
       "model_id": "7f370bf1607c46d6bf12bd80583e6bd6",
       "version_major": 2,
       "version_minor": 0
      },
      "text/plain": [
       "IntSlider(value=50, description='Number of frames: ', layout=Layout(height='40px', width='auto'), min=1, style…"
      ]
     },
     "metadata": {},
     "output_type": "display_data"
    },
    {
     "data": {
      "application/vnd.jupyter.widget-view+json": {
       "model_id": "696039d9dfeb4dd084a67c683a1a2500",
       "version_major": 2,
       "version_minor": 0
      },
      "text/plain": [
       "IntSlider(value=172, description='Image height: ', layout=Layout(height='40px', width='auto'), max=2000, min=1…"
      ]
     },
     "metadata": {},
     "output_type": "display_data"
    },
    {
     "data": {
      "application/vnd.jupyter.widget-view+json": {
       "model_id": "7c104d286ae140708a1c9892cd503cb4",
       "version_major": 2,
       "version_minor": 0
      },
      "text/plain": [
       "IntSlider(value=172, description='Image width: ', layout=Layout(height='40px', width='auto'), max=2000, min=1,…"
      ]
     },
     "metadata": {},
     "output_type": "display_data"
    },
    {
     "data": {
      "application/vnd.jupyter.widget-view+json": {
       "model_id": "6a98d5be8624424cb27a36d88e7fcf17",
       "version_major": 2,
       "version_minor": 0
      },
      "text/plain": [
       "IntSlider(value=3, description='Number of channels: ', layout=Layout(height='40px', width='auto'), max=10, min…"
      ]
     },
     "metadata": {},
     "output_type": "display_data"
    }
   ],
   "source": [
    "#@title Select data settings\n",
    "data_settings = StartupApplication.get_data_manager()"
   ]
  },
  {
   "cell_type": "code",
   "execution_count": 6,
   "metadata": {},
   "outputs": [
    {
     "data": {
      "application/vnd.jupyter.widget-view+json": {
       "model_id": "6386c04a26e3463bba89be5e8ad54367",
       "version_major": 2,
       "version_minor": 0
      },
      "text/plain": [
       "VBox(children=(Checkbox(value=False, description='Load last model checkpoint', indent=False), Checkbox(value=T…"
      ]
     },
     "metadata": {},
     "output_type": "display_data"
    },
    {
     "data": {
      "application/vnd.jupyter.widget-view+json": {
       "model_id": "9907b148915b4b43b454e7067c1dd4e0",
       "version_major": 2,
       "version_minor": 0
      },
      "text/plain": [
       "Dropdown(description='Approach options: ', index=3, layout=Layout(height='40px', width='auto'), options=(('(2+…"
      ]
     },
     "metadata": {},
     "output_type": "display_data"
    },
    {
     "data": {
      "application/vnd.jupyter.widget-view+json": {
       "model_id": "905a0cda77a146759fbbb8973000316e",
       "version_major": 2,
       "version_minor": 0
      },
      "text/plain": [
       "Dropdown(description='Optimizer options: ', index=2, layout=Layout(height='40px', width='auto'), options=('SGD…"
      ]
     },
     "metadata": {},
     "output_type": "display_data"
    },
    {
     "data": {
      "application/vnd.jupyter.widget-view+json": {
       "model_id": "223ad5ca76c24151b6cd9b4f2763c39e",
       "version_major": 2,
       "version_minor": 0
      },
      "text/plain": [
       "Dropdown(description='Activation options: ', layout=Layout(height='40px', width='auto'), options=('relu', 'sig…"
      ]
     },
     "metadata": {},
     "output_type": "display_data"
    },
    {
     "data": {
      "application/vnd.jupyter.widget-view+json": {
       "model_id": "a6c7a7ba23e64672bc8552468cacbf54",
       "version_major": 2,
       "version_minor": 0
      },
      "text/plain": [
       "Dropdown(description='Padding options: ', layout=Layout(height='40px', width='auto'), options=('same', 'valid'…"
      ]
     },
     "metadata": {},
     "output_type": "display_data"
    },
    {
     "data": {
      "application/vnd.jupyter.widget-view+json": {
       "model_id": "08e1e7d3834c45b9883b79f36d9a042f",
       "version_major": 2,
       "version_minor": 0
      },
      "text/plain": [
       "IntSlider(value=100, description='Epochs: ', layout=Layout(height='40px', width='auto'), max=300, min=1, style…"
      ]
     },
     "metadata": {},
     "output_type": "display_data"
    },
    {
     "data": {
      "application/vnd.jupyter.widget-view+json": {
       "model_id": "6619f4b673bc4c4b93f0b3ebd2edfc0f",
       "version_major": 2,
       "version_minor": 0
      },
      "text/plain": [
       "FloatLogSlider(value=32.0, base=2.0, description='Filters: ', layout=Layout(height='40px', width='auto'), max=…"
      ]
     },
     "metadata": {},
     "output_type": "display_data"
    },
    {
     "data": {
      "application/vnd.jupyter.widget-view+json": {
       "model_id": "f6200a7e688d486399c18b63d4908760",
       "version_major": 2,
       "version_minor": 0
      },
      "text/plain": [
       "FloatSlider(value=0.1, continuous_update=False, description='Dropout: ', layout=Layout(height='40px', width='a…"
      ]
     },
     "metadata": {},
     "output_type": "display_data"
    },
    {
     "data": {
      "application/vnd.jupyter.widget-view+json": {
       "model_id": "8f51dbf534214626842474dad11bf6a1",
       "version_major": 2,
       "version_minor": 0
      },
      "text/plain": [
       "FloatLogSlider(value=1e-05, description='Learning rate: ', layout=Layout(height='40px', width='auto'), max=-1.…"
      ]
     },
     "metadata": {},
     "output_type": "display_data"
    },
    {
     "data": {
      "application/vnd.jupyter.widget-view+json": {
       "model_id": "5aaedb563f6345cd8474347972985ff5",
       "version_major": 2,
       "version_minor": 0
      },
      "text/plain": [
       "VBox(children=(Label(value='kernel Size Values:'), IntSlider(value=3, description='value 0: ', layout=Layout(h…"
      ]
     },
     "metadata": {},
     "output_type": "display_data"
    },
    {
     "data": {
      "application/vnd.jupyter.widget-view+json": {
       "model_id": "9e840da881784dd0bac2707f785ec10d",
       "version_major": 2,
       "version_minor": 0
      },
      "text/plain": [
       "VBox(children=(Label(value='Pooling Strides Values:'), IntSlider(value=2, description='value 0: ', layout=Layo…"
      ]
     },
     "metadata": {},
     "output_type": "display_data"
    },
    {
     "data": {
      "application/vnd.jupyter.widget-view+json": {
       "model_id": "f8f41b20be214f7285285a27cae09c59",
       "version_major": 2,
       "version_minor": 0
      },
      "text/plain": [
       "Accordion(children=(Tab(children=(VBox(children=(Checkbox(value=False, description='Disabled', indent=False),)…"
      ]
     },
     "metadata": {},
     "output_type": "display_data"
    }
   ],
   "source": [
    "#@title Select approach settings\n",
    "approach_settings = StartupApplication.get_approach_manager()"
   ]
  },
  {
   "cell_type": "code",
   "execution_count": 7,
   "metadata": {},
   "outputs": [
    {
     "name": "stdout",
     "output_type": "stream",
     "text": [
      "\n",
      "Simulation scope sttings:\n",
      "\n",
      "Iterations: [0]\n",
      "folds: [0]\n",
      "\n",
      "Selected data attributes:\n",
      "\n",
      "Number of channels: 3\n",
      "Number of frames: 50\n",
      "Image height: 172\n",
      "Image width: 172\n",
      "Batch size: 4\n",
      "\n",
      "Selected Movinet attributes:\n",
      "\n",
      "Callbacks: ['ModelCheckpoint', 'CSVLogger', 'EarlyStopping', 'LearningRateScheduler']\n",
      "Number of output initial filters: 32\n",
      "Pooling Strides: (2, 2, 2)\n",
      "Activation function: relu\n",
      "Load latest model: False\n",
      "Padding approach: same\n",
      "Kernel size: (3, 3, 3)\n",
      "Number of epochs: 100\n",
      "Learning rate: 1e-05\n",
      "Unfreezing: True\n",
      "Optimizer: Adam\n",
      "Dropout: 0.1\n"
     ]
    }
   ],
   "source": [
    "#@title Show selected values\n",
    "\n",
    "print(\n",
    "    \"\\nSimulation scope sttings:\\n\",\n",
    "    f\"Iterations: {simulation_scope_settings.iterations}\",\n",
    "    f\"folds: {simulation_scope_settings.folds}\",\n",
    "    sep=\"\\n\"\n",
    ")\n",
    "\n",
    "print(\n",
    "    \"\\nSelected data attributes:\\n\",\n",
    "    f\"Number of channels: {data_settings.n_channels}\",\n",
    "    f\"Number of frames: {data_settings.n_frames}\",\n",
    "    f\"Image height: {data_settings.image_height}\",\n",
    "    f\"Image width: {data_settings.image_width}\",\n",
    "    f\"Batch size: {data_settings.batch_size}\",\n",
    "    sep = \"\\n\"\n",
    ")\n",
    "\n",
    "print(\n",
    "    f\"\\nSelected {approach_settings.approach.__name__} attributes:\\n\",\n",
    "    f\"Callbacks: {[callback.__class__.__name__ for callback in approach_settings.callbacks]}\",\n",
    "    f\"Number of output initial filters: {approach_settings.filters}\",\n",
    "    f\"Pooling Strides: {approach_settings.pooling_strides}\",\n",
    "    f\"Activation function: {approach_settings.activation}\",\n",
    "    f\"Load latest model: {approach_settings.load_latest_model}\",\n",
    "    f\"Padding approach: {approach_settings.padding}\",\n",
    "    f\"Kernel size: {approach_settings.kernel_size}\",\n",
    "    f\"Number of epochs: {approach_settings.epochs}\",\n",
    "    f\"Learning rate: {approach_settings.learning_rate}\",\n",
    "    f\"Unfreezing: {approach_settings.unfreezing}\",\n",
    "    f\"Optimizer: {approach_settings.optimizer}\",\n",
    "    f\"Dropout: {approach_settings.dropout}\",\n",
    "    sep = \"\\n\"\n",
    ")"
   ]
  },
  {
   "cell_type": "code",
   "execution_count": 8,
   "metadata": {},
   "outputs": [],
   "source": [
    "#@title build pipeline\n",
    "pipeline = ExecutionApplication.get_pipeline(\n",
    "    simulation_scope_settings=simulation_scope_settings,\n",
    "    data_settings=data_settings,\n",
    "    approach_settings=approach_settings\n",
    ")"
   ]
  },
  {
   "cell_type": "code",
   "execution_count": 9,
   "metadata": {},
   "outputs": [
    {
     "name": "stdout",
     "output_type": "stream",
     "text": [
      "Epoch 1/100\n"
     ]
    }
   ],
   "source": [
    "#@title Run pipeline\n",
    "pipeline.run()"
   ]
  },
  {
   "cell_type": "code",
   "execution_count": null,
   "metadata": {},
   "outputs": [],
   "source": [
    "#@title Evaluate\n",
    "evaluation_application = EvaluationApplication(\n",
    "    approach=pipeline.approach,\n",
    "    data_settings=data_settings,\n",
    "    simulation_scope_settings=simulation_scope_settings,\n",
    ")\n",
    "evaluation_application.evaluate()"
   ]
  },
  {
   "cell_type": "code",
   "execution_count": null,
   "metadata": {},
   "outputs": [],
   "source": [
    "#@title Calculate and save Precision, Recall and F1-score\n",
    "evaluation_application.calculate_classification_metrics()"
   ]
  },
  {
   "cell_type": "code",
   "execution_count": null,
   "metadata": {},
   "outputs": [],
   "source": [
    "#@title Calculate AUC\n",
    "evaluation_application.calculate_auc()"
   ]
  },
  {
   "cell_type": "code",
   "execution_count": null,
   "metadata": {},
   "outputs": [],
   "source": [
    "#@title Build and save ROC Curve\n",
    "evaluation_application.build_roc_curve()"
   ]
  },
  {
   "cell_type": "code",
   "execution_count": null,
   "metadata": {},
   "outputs": [],
   "source": [
    "#@title Build and save confusion matrix\n",
    "evaluation_application.build_confusion_matrix()"
   ]
  }
 ],
 "metadata": {
  "kernelspec": {
   "display_name": "Python 3",
   "language": "python",
   "name": "python3"
  },
  "language_info": {
   "codemirror_mode": {
    "name": "ipython",
    "version": 3
   },
   "file_extension": ".py",
   "mimetype": "text/x-python",
   "name": "python",
   "nbconvert_exporter": "python",
   "pygments_lexer": "ipython3",
   "version": "3.11.0rc1"
  }
 },
 "nbformat": 4,
 "nbformat_minor": 2
}
