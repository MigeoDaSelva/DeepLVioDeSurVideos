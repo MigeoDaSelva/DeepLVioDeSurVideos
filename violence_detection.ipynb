{
 "cells": [
  {
   "cell_type": "markdown",
   "metadata": {},
   "source": [
    "# <b>Machine</b> <b>L</b>earning <b>Appl</b>ied to <b>Vio</b>lence <b>De</b>tection in <b>Sur</b>veillance <b>Videos</b> (MachineLApplVioDeSurVideos)"
   ]
  },
  {
   "cell_type": "markdown",
   "metadata": {},
   "source": [
    "## Development environment setup"
   ]
  },
  {
   "cell_type": "code",
   "execution_count": 1,
   "metadata": {},
   "outputs": [
    {
     "data": {
      "text/plain": [
       "[]"
      ]
     },
     "execution_count": 1,
     "metadata": {},
     "output_type": "execute_result"
    }
   ],
   "source": [
    "%%sx\n",
    "#@title Colab development environment settings\n",
    "if [ -n \"${COLAB_RELEASE_TAG}\" ]; then\n",
    "    git clone -b main https://github.com/MigeoDaSelva/MachineLApplVioDeSurVideos.git;\n",
    "    python3 -m pip install --upgrade pip;\n",
    "    python3 -m pip install -r /content/MachineLApplVioDeSurVideos/requirements.txt;\n",
    "    kill -9 pid \"${PPID}\";\n",
    "fi"
   ]
  },
  {
   "cell_type": "code",
   "execution_count": 2,
   "metadata": {},
   "outputs": [],
   "source": [
    "#@title Import libraries\n",
    "from pprint import pprint\n",
    "import sys\n",
    "import os"
   ]
  },
  {
   "cell_type": "code",
   "execution_count": 3,
   "metadata": {},
   "outputs": [
    {
     "name": "stdout",
     "output_type": "stream",
     "text": [
      "(\"Environment paths: ['/workspaces/MachineLApplVioDeSurVideos', \"\n",
      " \"'/usr/lib/python311.zip', '/usr/lib/python3.11', \"\n",
      " \"'/usr/lib/python3.11/lib-dynload', '', \"\n",
      " \"'/usr/local/lib/python3.11/dist-packages', '/usr/lib/python3/dist-packages']\")\n"
     ]
    }
   ],
   "source": [
    "#@title System path manager\n",
    "%reload_ext autoreload\n",
    "%autoreload 2\n",
    "\n",
    "project_name = \"MachineLApplVioDeSurVideos\"\n",
    "\n",
    "working_directory = os.popen(\"echo $PWD\").read().rstrip()\n",
    "\n",
    "project_root_path = working_directory \\\n",
    "    if project_name in working_directory \\\n",
    "        else os.popen(\n",
    "            f\"readlink -f $(find -name {project_name} \\\n",
    "                -not -path '*/drive/*')\"\n",
    "        ).read().rstrip()\n",
    "\n",
    "if str(project_root_path) not in sys.path:\n",
    "    sys.path.insert(0, str(project_root_path))\n",
    "\n",
    "pprint(f\"Environment paths: {sys.path}\")"
   ]
  },
  {
   "cell_type": "code",
   "execution_count": 4,
   "metadata": {},
   "outputs": [],
   "source": [
    "#@title Import project stuff\n",
    "from src.application.evaluation_application import EvaluationApplication\n",
    "from src.application.execution_application import ExecutionApplication\n",
    "from src.application.startup_application import StartupApplication\n",
    "from configs import settings"
   ]
  },
  {
   "cell_type": "code",
   "execution_count": 5,
   "metadata": {},
   "outputs": [],
   "source": [
    "#@title Colab resource settings\n",
    "if settings.COLAB_ENV: \n",
    "    from google.colab import output\n",
    "    from google.colab import drive\n",
    "    output.enable_custom_widget_manager()\n",
    "    drive.mount(\"/content/drive\", force_remount=True)"
   ]
  },
  {
   "cell_type": "code",
   "execution_count": 6,
   "metadata": {},
   "outputs": [
    {
     "data": {
      "application/vnd.jupyter.widget-view+json": {
       "model_id": "813d073eccb1483789f67401b2e232d7",
       "version_major": 2,
       "version_minor": 0
      },
      "text/plain": [
       "VBox(children=(Label(value='Literally: Is used to indicate the execution of only one specific iteration or fol…"
      ]
     },
     "metadata": {},
     "output_type": "display_data"
    },
    {
     "data": {
      "application/vnd.jupyter.widget-view+json": {
       "model_id": "8202fff9240744749eb21bb7ab161c82",
       "version_major": 2,
       "version_minor": 0
      },
      "text/plain": [
       "VBox(children=(Label(value='Select iteration(s):'), Dropdown(options=('Literally', 'Sequential', 'Range'), val…"
      ]
     },
     "metadata": {},
     "output_type": "display_data"
    },
    {
     "data": {
      "application/vnd.jupyter.widget-view+json": {
       "model_id": "17d5865a8fcc451b97d4fcca65c7dc8e",
       "version_major": 2,
       "version_minor": 0
      },
      "text/plain": [
       "VBox(children=(Label(value='Select fold(s):'), Dropdown(options=('Literally', 'Sequential', 'Range'), value='L…"
      ]
     },
     "metadata": {},
     "output_type": "display_data"
    }
   ],
   "source": [
    "#@title Define simulation scope\n",
    "simulation_scope_settings = StartupApplication.get_scope_manager()"
   ]
  },
  {
   "cell_type": "code",
   "execution_count": 7,
   "metadata": {},
   "outputs": [
    {
     "data": {
      "application/vnd.jupyter.widget-view+json": {
       "model_id": "32f74006150c454295d49c2ba2055567",
       "version_major": 2,
       "version_minor": 0
      },
      "text/plain": [
       "IntSlider(value=16, description='Batch size: ', layout=Layout(height='40px', width='auto'), max=1000, min=1, s…"
      ]
     },
     "metadata": {},
     "output_type": "display_data"
    },
    {
     "data": {
      "application/vnd.jupyter.widget-view+json": {
       "model_id": "3603323520de433989616754952f0c27",
       "version_major": 2,
       "version_minor": 0
      },
      "text/plain": [
       "IntSlider(value=60, description='Number of frames: ', layout=Layout(height='40px', width='auto'), max=150, min…"
      ]
     },
     "metadata": {},
     "output_type": "display_data"
    },
    {
     "data": {
      "application/vnd.jupyter.widget-view+json": {
       "model_id": "963e9029ba4a41699fcb380a19b904b7",
       "version_major": 2,
       "version_minor": 0
      },
      "text/plain": [
       "IntSlider(value=224, description='Image height: ', layout=Layout(height='40px', width='auto'), max=2000, min=1…"
      ]
     },
     "metadata": {},
     "output_type": "display_data"
    },
    {
     "data": {
      "application/vnd.jupyter.widget-view+json": {
       "model_id": "cd38ed7c7b0544379327c5a6768b48b7",
       "version_major": 2,
       "version_minor": 0
      },
      "text/plain": [
       "IntSlider(value=224, description='Image width: ', layout=Layout(height='40px', width='auto'), max=2000, min=1,…"
      ]
     },
     "metadata": {},
     "output_type": "display_data"
    },
    {
     "data": {
      "application/vnd.jupyter.widget-view+json": {
       "model_id": "8a193175f8c14540b229fa9dd384c40c",
       "version_major": 2,
       "version_minor": 0
      },
      "text/plain": [
       "IntSlider(value=3, description='Number of channels: ', layout=Layout(height='40px', width='auto'), max=10, min…"
      ]
     },
     "metadata": {},
     "output_type": "display_data"
    }
   ],
   "source": [
    "#@title Select data settings\n",
    "data_settings = StartupApplication.get_data_manager()"
   ]
  },
  {
   "cell_type": "code",
   "execution_count": 8,
   "metadata": {},
   "outputs": [
    {
     "data": {
      "application/vnd.jupyter.widget-view+json": {
       "model_id": "016574cd51684b5492a1410739db11db",
       "version_major": 2,
       "version_minor": 0
      },
      "text/plain": [
       "VBox(children=(Checkbox(value=False, description='Load best model checkpoint', indent=False), Checkbox(value=F…"
      ]
     },
     "metadata": {},
     "output_type": "display_data"
    },
    {
     "data": {
      "application/vnd.jupyter.widget-view+json": {
       "model_id": "27c10406e47b4490856dffcda56b8ca9",
       "version_major": 2,
       "version_minor": 0
      },
      "text/plain": [
       "Dropdown(description='Approach options: ', layout=Layout(height='40px', width='auto'), options=(('(2+1)D-CNN',…"
      ]
     },
     "metadata": {},
     "output_type": "display_data"
    },
    {
     "data": {
      "application/vnd.jupyter.widget-view+json": {
       "model_id": "1ab191ba07574ab9adb796279ef9b247",
       "version_major": 2,
       "version_minor": 0
      },
      "text/plain": [
       "Dropdown(description='Optimizer options: ', layout=Layout(height='40px', width='auto'), options=(('SGD', <clas…"
      ]
     },
     "metadata": {},
     "output_type": "display_data"
    },
    {
     "data": {
      "application/vnd.jupyter.widget-view+json": {
       "model_id": "dad305fa6e614c0aa8f3de3af32c6585",
       "version_major": 2,
       "version_minor": 0
      },
      "text/plain": [
       "Dropdown(description='Activation options: ', layout=Layout(height='40px', width='auto'), options=('relu', 'sig…"
      ]
     },
     "metadata": {},
     "output_type": "display_data"
    },
    {
     "data": {
      "application/vnd.jupyter.widget-view+json": {
       "model_id": "a3e5e0ba4f164c2eab7ec5fc645de05d",
       "version_major": 2,
       "version_minor": 0
      },
      "text/plain": [
       "Dropdown(description='Padding options: ', layout=Layout(height='40px', width='auto'), options=('same', 'valid'…"
      ]
     },
     "metadata": {},
     "output_type": "display_data"
    },
    {
     "data": {
      "application/vnd.jupyter.widget-view+json": {
       "model_id": "2fa8cd89f9dc4e3b84b899dbf34516b2",
       "version_major": 2,
       "version_minor": 0
      },
      "text/plain": [
       "IntSlider(value=300, description='Epochs: ', layout=Layout(height='40px', width='auto'), max=300, min=1, style…"
      ]
     },
     "metadata": {},
     "output_type": "display_data"
    },
    {
     "data": {
      "application/vnd.jupyter.widget-view+json": {
       "model_id": "5a43e75732c24245ae371028a8c424bd",
       "version_major": 2,
       "version_minor": 0
      },
      "text/plain": [
       "FloatLogSlider(value=32.0, base=2.0, description='Filters: ', layout=Layout(height='40px', width='auto'), max=…"
      ]
     },
     "metadata": {},
     "output_type": "display_data"
    },
    {
     "data": {
      "application/vnd.jupyter.widget-view+json": {
       "model_id": "a51fa57e35de4cf8a8f292233bd3d473",
       "version_major": 2,
       "version_minor": 0
      },
      "text/plain": [
       "FloatSlider(value=0.1, continuous_update=False, description='Dropout: ', layout=Layout(height='40px', width='a…"
      ]
     },
     "metadata": {},
     "output_type": "display_data"
    },
    {
     "data": {
      "application/vnd.jupyter.widget-view+json": {
       "model_id": "58fb7bfcba4c4cae8bfd881c079103a0",
       "version_major": 2,
       "version_minor": 0
      },
      "text/plain": [
       "FloatLogSlider(value=0.01, description='Learning rate: ', layout=Layout(height='40px', width='auto'), max=-1.0…"
      ]
     },
     "metadata": {},
     "output_type": "display_data"
    },
    {
     "data": {
      "application/vnd.jupyter.widget-view+json": {
       "model_id": "a9201178da1940c7801ec16d99e99b66",
       "version_major": 2,
       "version_minor": 0
      },
      "text/plain": [
       "VBox(children=(Label(value='kernel Size Values:'), IntSlider(value=3, description='value 0: ', layout=Layout(h…"
      ]
     },
     "metadata": {},
     "output_type": "display_data"
    },
    {
     "data": {
      "application/vnd.jupyter.widget-view+json": {
       "model_id": "5d2247ececda447db8106e6441dbe9b4",
       "version_major": 2,
       "version_minor": 0
      },
      "text/plain": [
       "VBox(children=(Label(value='Pooling Strides Values:'), IntSlider(value=2, description='value 0: ', layout=Layo…"
      ]
     },
     "metadata": {},
     "output_type": "display_data"
    },
    {
     "data": {
      "application/vnd.jupyter.widget-view+json": {
       "model_id": "d2c3c6afb7ca409a832c0deb4aafebfa",
       "version_major": 2,
       "version_minor": 0
      },
      "text/plain": [
       "Accordion(children=(Tab(children=(VBox(children=(Checkbox(value=False, description='Disabled', indent=False),)…"
      ]
     },
     "metadata": {},
     "output_type": "display_data"
    }
   ],
   "source": [
    "#@title Select approach settings\n",
    "approach_settings = StartupApplication.get_approach_manager()"
   ]
  },
  {
   "cell_type": "code",
   "execution_count": 9,
   "metadata": {},
   "outputs": [
    {
     "name": "stdout",
     "output_type": "stream",
     "text": [
      "\n",
      "Simulation scope sttings:\n",
      "\n",
      "Iterations: [0]\n",
      "folds: [0]\n",
      "\n",
      "Selected data attributes:\n",
      "\n",
      "Number of channels: 3\n",
      "Number of frames: 1\n",
      "Image height: 224\n",
      "Image width: 224\n",
      "Batch size: 1\n",
      "\n",
      "Selected Movinet attributes:\n",
      "\n",
      "Callbacks: ['ModelCheckpoint', 'CSVLogger', 'EarlyStopping', 'LearningRateScheduler']\n",
      "Number of output initial filters: 32\n",
      "Pooling Strides: (2, 2, 2)\n",
      "Activation function: relu\n",
      "Load latest model: True\n",
      "Padding approach: same\n",
      "Kernel size: (3, 3, 3)\n",
      "Number of epochs: 1\n",
      "Learning rate: 0.01\n",
      "Unfreezing: False\n",
      "Optimizer: SGD\n",
      "Dropout: 0.1\n"
     ]
    }
   ],
   "source": [
    "#@title Show selected values\n",
    "\n",
    "print(\n",
    "    \"\\nSimulation scope sttings:\\n\",\n",
    "    f\"Iterations: {simulation_scope_settings.iterations}\",\n",
    "    f\"folds: {simulation_scope_settings.folds}\",\n",
    "    sep=\"\\n\"\n",
    ")\n",
    "\n",
    "print(\n",
    "    \"\\nSelected data attributes:\\n\",\n",
    "    f\"Number of channels: {data_settings.n_channels}\",\n",
    "    f\"Number of frames: {data_settings.n_frames}\",\n",
    "    f\"Image height: {data_settings.image_height}\",\n",
    "    f\"Image width: {data_settings.image_width}\",\n",
    "    f\"Batch size: {data_settings.batch_size}\",\n",
    "    sep = \"\\n\"\n",
    ")\n",
    "\n",
    "print(\n",
    "    f\"\\nSelected {approach_settings.approach.__name__} attributes:\\n\",\n",
    "    f\"Callbacks: {[callback.__class__.__name__ for callback in approach_settings.callbacks]}\",\n",
    "    f\"Number of output initial filters: {approach_settings.filters}\",\n",
    "    f\"Pooling Strides: {approach_settings.pooling_strides}\",\n",
    "    f\"Activation function: {approach_settings.activation}\",\n",
    "    f\"Load latest model: {approach_settings.continue_training}\",\n",
    "    f\"Padding approach: {approach_settings.padding}\",\n",
    "    f\"Kernel size: {approach_settings.kernel_size}\",\n",
    "    f\"Number of epochs: {approach_settings.epochs}\",\n",
    "    f\"Learning rate: {approach_settings.learning_rate}\",\n",
    "    f\"Unfreezing: {approach_settings.unfreezing}\",\n",
    "    f\"Optimizer: {approach_settings.optimizer.__name__}\",\n",
    "    f\"Dropout: {approach_settings.dropout}\",\n",
    "    sep = \"\\n\"\n",
    ")"
   ]
  },
  {
   "cell_type": "code",
   "execution_count": 10,
   "metadata": {},
   "outputs": [],
   "source": [
    "#@title build pipeline\n",
    "pipeline = ExecutionApplication.get_pipeline(\n",
    "    simulation_scope_settings=simulation_scope_settings,\n",
    "    data_settings=data_settings,\n",
    "    approach_settings=approach_settings\n",
    ")"
   ]
  },
  {
   "cell_type": "code",
   "execution_count": 16,
   "metadata": {},
   "outputs": [
    {
     "ename": "AttributeError",
     "evalue": "'MovinetClassifier' object has no attribute 'layer'",
     "output_type": "error",
     "traceback": [
      "\u001b[0;31m---------------------------------------------------------------------------\u001b[0m",
      "\u001b[0;31mAttributeError\u001b[0m                            Traceback (most recent call last)",
      "Cell \u001b[0;32mIn[16], line 2\u001b[0m\n\u001b[1;32m      1\u001b[0m \u001b[38;5;66;03m#@title Pipeline runimg\u001b[39;00m\n\u001b[0;32m----> 2\u001b[0m \u001b[43mpipeline\u001b[49m\u001b[38;5;241;43m.\u001b[39;49m\u001b[43mrun\u001b[49m\u001b[43m(\u001b[49m\u001b[43m)\u001b[49m\n",
      "File \u001b[0;32m/workspaces/MachineLApplVioDeSurVideos/src/engine/pipeline.py:27\u001b[0m, in \u001b[0;36mPipeline.run\u001b[0;34m(self)\u001b[0m\n\u001b[1;32m     26\u001b[0m \u001b[38;5;28;01mdef\u001b[39;00m \u001b[38;5;21mrun\u001b[39m(\u001b[38;5;28mself\u001b[39m) \u001b[38;5;241m-\u001b[39m\u001b[38;5;241m>\u001b[39m \u001b[38;5;28;01mNone\u001b[39;00m:\n\u001b[0;32m---> 27\u001b[0m     \u001b[38;5;28;43mself\u001b[39;49m\u001b[38;5;241;43m.\u001b[39;49m\u001b[43mapproach\u001b[49m\u001b[38;5;241;43m.\u001b[39;49m\u001b[43mbuild\u001b[49m\u001b[43m(\u001b[49m\u001b[43m)\u001b[49m\n\u001b[1;32m     28\u001b[0m     \u001b[38;5;28mself\u001b[39m\u001b[38;5;241m.\u001b[39mapproach\u001b[38;5;241m.\u001b[39mcompile()\n\u001b[1;32m     29\u001b[0m     \u001b[38;5;28mself\u001b[39m\u001b[38;5;241m.\u001b[39mapproach\u001b[38;5;241m.\u001b[39mfit(train_ds\u001b[38;5;241m=\u001b[39m\u001b[38;5;28mself\u001b[39m\u001b[38;5;241m.\u001b[39m_train_ds, validation_ds\u001b[38;5;241m=\u001b[39m\u001b[38;5;28mself\u001b[39m\u001b[38;5;241m.\u001b[39m_validation_ds)\n",
      "File \u001b[0;32m/workspaces/MachineLApplVioDeSurVideos/src/domain/approach/movinet.py:44\u001b[0m, in \u001b[0;36mMovinet.build\u001b[0;34m(self)\u001b[0m\n\u001b[1;32m     36\u001b[0m \u001b[38;5;28mself\u001b[39m\u001b[38;5;241m.\u001b[39m_model \u001b[38;5;241m=\u001b[39m movinet_model\u001b[38;5;241m.\u001b[39mMovinetClassifier(\n\u001b[1;32m     37\u001b[0m     backbone\u001b[38;5;241m=\u001b[39mbackbone,\n\u001b[1;32m     38\u001b[0m     num_classes\u001b[38;5;241m=\u001b[39m\u001b[38;5;241m14\u001b[39m,\n\u001b[1;32m     39\u001b[0m     dropout_rate\u001b[38;5;241m=\u001b[39m\u001b[38;5;28mself\u001b[39m\u001b[38;5;241m.\u001b[39mdropout,\n\u001b[1;32m     40\u001b[0m     name\u001b[38;5;241m=\u001b[39m\u001b[38;5;28mself\u001b[39m\u001b[38;5;241m.\u001b[39m\u001b[38;5;18m__class__\u001b[39m\u001b[38;5;241m.\u001b[39m\u001b[38;5;18m__name__\u001b[39m,\n\u001b[1;32m     41\u001b[0m )\n\u001b[1;32m     43\u001b[0m \u001b[38;5;28mself\u001b[39m\u001b[38;5;241m.\u001b[39mmodel\u001b[38;5;241m.\u001b[39mbuild(\u001b[38;5;28mself\u001b[39m\u001b[38;5;241m.\u001b[39minput_shape)\n\u001b[0;32m---> 44\u001b[0m \u001b[43mexec\u001b[49m\u001b[43m(\u001b[49m\u001b[38;5;124;43m\"\u001b[39;49m\u001b[38;5;124;43mw\u001b[39;49m\u001b[38;5;132;43;01m{}\u001b[39;49;00m\u001b[38;5;124;43m=np.array(self.model.layer.get_weights()[0])\u001b[39;49m\u001b[38;5;124;43m\"\u001b[39;49m\u001b[38;5;241;43m.\u001b[39;49m\u001b[43mformat\u001b[49m\u001b[43m(\u001b[49m\u001b[38;5;241;43m0\u001b[39;49m\u001b[43m)\u001b[49m\u001b[43m)\u001b[49m\n\u001b[1;32m     46\u001b[0m \u001b[38;5;28;01mif\u001b[39;00m \u001b[38;5;28mself\u001b[39m\u001b[38;5;241m.\u001b[39mcontinue_training:\n\u001b[1;32m     47\u001b[0m     \u001b[38;5;28mself\u001b[39m\u001b[38;5;241m.\u001b[39mload_weights()\n",
      "File \u001b[0;32m<string>:1\u001b[0m\n",
      "\u001b[0;31mAttributeError\u001b[0m: 'MovinetClassifier' object has no attribute 'layer'"
     ]
    }
   ],
   "source": [
    "#@title Pipeline runimg\n",
    "pipeline.run()"
   ]
  },
  {
   "cell_type": "code",
   "execution_count": null,
   "metadata": {},
   "outputs": [],
   "source": [
    "#@title Load latest best model\n",
    "ExecutionApplication.load_best_model(pipeline.approach)"
   ]
  },
  {
   "cell_type": "code",
   "execution_count": null,
   "metadata": {},
   "outputs": [],
   "source": [
    "#@title Evaluate\n",
    "evaluation_application = EvaluationApplication(\n",
    "    approach=pipeline.approach,\n",
    "    data_settings=data_settings,\n",
    "    simulation_scope_settings=simulation_scope_settings,\n",
    ")\n",
    "\n",
    "evaluation_application.evaluate()\n",
    "evaluation_application.calculate_classification_metrics()\n",
    "evaluation_application.save_confusion_matrix()"
   ]
  },
  {
   "cell_type": "code",
   "execution_count": null,
   "metadata": {},
   "outputs": [],
   "source": [
    "#@title Post-training\n",
    "evaluation_application.calculate_average_classification_metrics()\n",
    "evaluation_application.build_confusion_matrix()"
   ]
  }
 ],
 "metadata": {
  "kernelspec": {
   "display_name": "Python 3",
   "language": "python",
   "name": "python3"
  },
  "language_info": {
   "codemirror_mode": {
    "name": "ipython",
    "version": 3
   },
   "file_extension": ".py",
   "mimetype": "text/x-python",
   "name": "python",
   "nbconvert_exporter": "python",
   "pygments_lexer": "ipython3",
   "version": "3.11.0rc1"
  }
 },
 "nbformat": 4,
 "nbformat_minor": 2
}
